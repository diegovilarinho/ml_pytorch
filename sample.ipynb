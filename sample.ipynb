{
 "cells": [
  {
   "metadata": {},
   "cell_type": "markdown",
   "source": "",
   "id": "8a77807f92f26ee"
  },
  {
   "metadata": {
    "ExecuteTime": {
     "end_time": "2024-06-21T17:18:26.454196Z",
     "start_time": "2024-06-21T17:18:26.439932Z"
    }
   },
   "cell_type": "code",
   "source": [
    "import torch\n",
    "\n",
    "tns = torch.randn(10)\n",
    "if torch.backends.mps.is_available():\n",
    "    print(\"MPS is available. Using MPS\")\n",
    "    device = torch.device('mps')\n",
    "else:\n",
    "    device = torch.device('cpu')\n",
    "    print(\"MPS is not available. Using CPU\")\n",
    "    print(device)\n",
    "    \n",
    "tns = tns.to(device)\n",
    "print(tns)"
   ],
   "id": "f143fd4a4f0c515c",
   "outputs": [
    {
     "name": "stdout",
     "output_type": "stream",
     "text": [
      "MPS is available. Using MPS\n",
      "tensor([ 0.6725, -0.9488, -0.5903, -0.9148, -0.1531,  1.7786,  1.5686,  0.0398,\n",
      "        -0.4908,  0.6473], device='mps:0')\n"
     ]
    }
   ],
   "execution_count": 2
  },
  {
   "metadata": {
    "ExecuteTime": {
     "end_time": "2024-06-21T17:18:26.463084Z",
     "start_time": "2024-06-21T17:18:26.455522Z"
    }
   },
   "cell_type": "code",
   "source": [
    "import torch\n",
    "tns = torch.randn(9, 12)\n",
    "tns1 = tns[0:5, 0:4]\n",
    "tns2 = tns[5:, 4:]\n",
    "\n",
    "resultado = torch.mm(tns1, tns2)\n",
    "print(resultado.size())"
   ],
   "id": "22150cfc872e04a",
   "outputs": [
    {
     "name": "stdout",
     "output_type": "stream",
     "text": [
      "torch.Size([5, 8])\n"
     ]
    }
   ],
   "execution_count": 3
  },
  {
   "metadata": {
    "ExecuteTime": {
     "end_time": "2024-06-21T17:18:26.472909Z",
     "start_time": "2024-06-21T17:18:26.467078Z"
    }
   },
   "cell_type": "code",
   "source": [
    "import torch \n",
    "tns1 = torch.randn(7,7,3)\n",
    "tns2 = torch.randn(147, 1)\n",
    "\n",
    "tns1 = tns1.view(-1, 1)\n",
    "tns_sum = tns1 + tns2\n",
    "tns_sum.size()"
   ],
   "id": "5ce5006797e9b13c",
   "outputs": [
    {
     "data": {
      "text/plain": [
       "torch.Size([147, 1])"
      ]
     },
     "execution_count": 4,
     "metadata": {},
     "output_type": "execute_result"
    }
   ],
   "execution_count": 4
  },
  {
   "metadata": {},
   "cell_type": "markdown",
   "source": "## Redes Neurais",
   "id": "7517c0dad0898599"
  },
  {
   "metadata": {},
   "cell_type": "markdown",
   "source": "### Perceptron",
   "id": "2417de8d15d17850"
  },
  {
   "metadata": {
    "ExecuteTime": {
     "end_time": "2024-06-21T17:18:27.858159Z",
     "start_time": "2024-06-21T17:18:26.474747Z"
    }
   },
   "cell_type": "code",
   "source": [
    "import numpy as np\n",
    "import matplotlib.pyplot as plt\n",
    "\n",
    "# Equação da reta: \n",
    "# ax + by + c = 0\n",
    "# y = (-ax - c) / b\n",
    "# y = -ax/b - c/b\n",
    "# y = -a/b * x -c/b\n",
    "\n",
    "# y = w1*x1 + w2 * x2 + w3*x3 + ... + wn*xn + b\n",
    "# Notacao Formula somatório de i=1 até n de wi*xi + b\n",
    "# y = sum(wi*xi) + b\n",
    "\n",
    "a = -1\n",
    "b = 4\n",
    "c = 0.4\n",
    "\n",
    "x = np.linspace(-2, 4, 50)\n",
    "y = -a/b * x - c/b\n",
    "\n",
    "plt.axvline(0, -1, 1, color='black', lw=0.5)\n",
    "plt.axhline(0, -2, 1, color='black', lw=0.5)\n",
    "plt.plot(x, y)\n",
    "plt.grid(True)\n"
   ],
   "id": "151e5a758ce15d7b",
   "outputs": [
    {
     "data": {
      "text/plain": [
       "<Figure size 640x480 with 1 Axes>"
      ],
      "image/png": "[encoded data removed]"
     },
     "metadata": {},
     "output_type": "display_data"
    }
   ],
   "execution_count": 5
  },
  {
   "metadata": {
    "ExecuteTime": {
     "end_time": "2024-06-21T17:18:27.860936Z",
     "start_time": "2024-06-21T17:18:27.859019Z"
    }
   },
   "cell_type": "code",
   "source": [
    "# Perceptron: 2 classes (entradas), linearmente separáveis\n",
    "# Função de ativação: degrau\n",
    "# Função de custo: erro quadrático médio\n",
    "# Gradiente descendente\n",
    "# w = w - n * gradiente\n",
    "# w = w - n * (y - y_pred) * x\n",
    "# b = b - n * (y - y_pred)"
   ],
   "id": "ac04bed4bfb660b5",
   "outputs": [],
   "execution_count": 6
  }
 ],
 "metadata": {
  "kernelspec": {
   "display_name": "Python 3",
   "language": "python",
   "name": "python3"
  },
  "language_info": {
   "codemirror_mode": {
    "name": "ipython",
    "version": 2
   },
   "file_extension": ".py",
   "mimetype": "text/x-python",
   "name": "python",
   "nbconvert_exporter": "python",
   "pygments_lexer": "ipython2",
   "version": "2.7.6"
  }
 },
 "nbformat": 4,
 "nbformat_minor": 5
}
